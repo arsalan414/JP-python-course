{
 "cells": [
  {
   "cell_type": "code",
   "execution_count": 1,
   "id": "889acd18",
   "metadata": {},
   "outputs": [
    {
     "name": "stdout",
     "output_type": "stream",
     "text": [
      "\tTwinkle, twinkle, little star,\n",
      "\t\tHow I wonder what you are!\n",
      "\t\t\tUp above the world so high,\n",
      "\t\t\tLike a diamond in the sky.\n",
      "\tTwinkle, twinkle, little star,\n",
      "\t\tHow I wonder what you are\n"
     ]
    }
   ],
   "source": [
    "# Write a Python program to print the following string in a specific format (see the\n",
    "# output).\n",
    "\n",
    "#     Twinkle, twinkle, little star,\n",
    "#         How I wonder what you are!\n",
    "#             Up above the world so high,\n",
    "#             Like a diamond in the sky.\n",
    "\n",
    "#     Twinkle, twinkle, little star,\n",
    "#         How I wonder what you are\n",
    "\n",
    "\n",
    "print('\\tTwinkle, twinkle, little star,\\n\\t\\tHow I wonder what you are!\\n\\t\\t\\tUp above the world so high,\\n\\t\\t\\tLike a diamond in the sky.\\n\\tTwinkle, twinkle, little star,\\n\\t\\tHow I wonder what you are');"
   ]
  },
  {
   "cell_type": "code",
   "execution_count": 2,
   "id": "6ed708a2",
   "metadata": {},
   "outputs": [
    {
     "name": "stdout",
     "output_type": "stream",
     "text": [
      "Python version\n",
      "3.8.8 (default, Apr 13 2021, 15:08:03) [MSC v.1916 64 bit (AMD64)]\n"
     ]
    }
   ],
   "source": [
    "# Write a Python program to get the Python version you are using\n",
    "\n",
    "import sys\n",
    "print(\"Python version\")\n",
    "print (sys.version)"
   ]
  },
  {
   "cell_type": "code",
   "execution_count": 3,
   "id": "0b7848a0",
   "metadata": {},
   "outputs": [
    {
     "name": "stdout",
     "output_type": "stream",
     "text": [
      "date and time = 21/10/2021 22:36:43\n"
     ]
    }
   ],
   "source": [
    "# Write a Python program to display the current date and time.\n",
    "\n",
    "from datetime import datetime\n",
    "\n",
    "today = datetime.today()\n",
    "# for formating date and time\n",
    "current_time_date = today.strftime(\"%d/%m/%Y %H:%M:%S\")\n",
    "print(\"date and time =\", current_time_date)"
   ]
  },
  {
   "cell_type": "code",
   "execution_count": 4,
   "id": "a50a46db",
   "metadata": {},
   "outputs": [
    {
     "name": "stdout",
     "output_type": "stream",
     "text": [
      "Radius of a circle:3\n",
      "area of a cirlce:  28.2744\n"
     ]
    }
   ],
   "source": [
    "# Write a Python program which accepts the radius of a circle from the user and compute the area.\n",
    "\n",
    "radius = int(input(\"Radius of a circle:\"))\n",
    "# area of circle is πr² and value of π is 3.1416\n",
    "area = 3.1416 * (radius**2)\n",
    "\n",
    "# printing area of circle\n",
    "print(\"area of a cirlce: \",area)"
   ]
  },
  {
   "cell_type": "code",
   "execution_count": 7,
   "id": "2557bb60",
   "metadata": {},
   "outputs": [
    {
     "name": "stdout",
     "output_type": "stream",
     "text": [
      "First Name: muhammad\n",
      "last Name: arsalan\n",
      "full name is: arsalan muhammad\n"
     ]
    }
   ],
   "source": [
    "# Write a Python program which accepts the user's first and last name and print them inreverse order with a space between them.\n",
    "\n",
    "first_Name = input(\"First Name: \")\n",
    "last_Name = input(\"last Name: \")\n",
    "\n",
    "# printing last name then first name\n",
    "print(f\"full name is: {last_Name} {first_Name}\")"
   ]
  },
  {
   "cell_type": "code",
   "execution_count": 2,
   "id": "699e45d5",
   "metadata": {},
   "outputs": [
    {
     "name": "stdout",
     "output_type": "stream",
     "text": [
      "ADDITION PROGRAM\n",
      "\n",
      "enter a 1st value:2\n",
      "enter a 2nd value:67\n",
      "\n",
      "sum of 2 and 67 is:  69\n"
     ]
    }
   ],
   "source": [
    "# Write a python program which takes two inputs from user and print them addition\n",
    "\n",
    "print(\"ADDITION PROGRAM\\n\")\n",
    "value1 = int(input(\"enter a 1st value:\"))\n",
    "value2 = int(input(\"enter a 2nd value:\"))\n",
    "\n",
    "# sum of two numbers\n",
    "sum= value1+value2\n",
    "print(f\"\\nsum of {value1} and {value2} is: \",sum)"
   ]
  },
  {
   "cell_type": "code",
   "execution_count": 3,
   "id": "e0fbfcfd",
   "metadata": {},
   "outputs": [
    {
     "name": "stdout",
     "output_type": "stream",
     "text": [
      ".....WELCOME TO THE PROGRAM.....\n",
      "Enter obtained Marks out of 100\n",
      "English: 87\n",
      "Islamiat: 99\n",
      "Mathematics: 87\n",
      "Urdu: 67\n",
      "Science: 53\n",
      "\n",
      "\n",
      "\n",
      ".......Marksheet.......\n",
      "Subjecst \tTotal marks \tObtained marks\n",
      "ENGLISH \t100 \t\t87.0\n",
      "Islamiat \t100 \t\t99.0\n",
      "Mathematics \t100 \t\t87.0\n",
      "Urdu \t\t100 \t\t67.0\n",
      "Science \t100 \t\t53.0\n",
      "\n",
      "percentage: 78.6% \tGrade: A \n"
     ]
    }
   ],
   "source": [
    "# Write a program which takes 5 inputs from user for different subject’s marks, total it\n",
    "# and generate mark sheet using grades ?\n",
    "\n",
    "\n",
    "print(\".....WELCOME TO THE PROGRAM.....\");\n",
    "print(\"Enter obtained Marks out of 100\");\n",
    "eng = float(input(\"English: \"));\n",
    "isl = float(input(\"Islamiat: \"));\n",
    "maths = float(input(\"Mathematics: \"));\n",
    "urdu = float(input(\"Urdu: \"));\n",
    "science = float(input(\"Science: \"));\n",
    "obtainedMarks = eng + isl + maths + urdu + science;\n",
    "totalMarks = 500;\n",
    "\n",
    "percentage = (obtainedMarks / totalMarks)*100;\n",
    "\n",
    "\n",
    "if percentage >=80 and percentage <=100:\n",
    "    grade=\"A+\"\n",
    "elif percentage >=70 and percentage <=100:\n",
    "    grade = \"A\"\n",
    "elif percentage >=60 and percentage <=100:\n",
    "    grade = \"B\"\n",
    "elif percentage >=50 and percentage <=100:\n",
    "    grade = \"C\"\n",
    "elif percentage >=40 and percentage <=100:\n",
    "    grade = \"D\"\n",
    "elif percentage <40 and percentage <=100:\n",
    "    grade = \"F\"\n",
    "else:\n",
    "    grade=\"Unknown\"\n",
    "    \n",
    "# printing marksheet\n",
    "print(\"\\n\\n.......Marksheet.......\");\n",
    "print(\"Subjecst \\tTotal marks \\tObtained marks\")\n",
    "print(f\"ENGLISH \\t100 \\t\\t{eng}\\nIslamiat \\t100 \\t\\t{isl}\\nMathematics \\t100 \\t\\t{maths}\\nUrdu \\t\\t100 \\t\\t{urdu}\\nScience \\t100 \\t\\t{science}\\n\");\n",
    "\n",
    "print(f\"percentage: {round(percentage,2)}% \\tGrade: {grade} \")"
   ]
  },
  {
   "cell_type": "code",
   "execution_count": 17,
   "id": "b3da37aa",
   "metadata": {},
   "outputs": [
    {
     "name": "stdout",
     "output_type": "stream",
     "text": [
      "enter a value:76\n",
      "76 is even\n"
     ]
    }
   ],
   "source": [
    "# Write a program which take input from user and identify that the given number is even or odd?\n",
    "\n",
    "value = int(input(\"enter a value:\"))\n",
    "if (value%2 == 0):\n",
    "    print(f\"{value} is even number\")\n",
    "else:\n",
    "    print(f\"{value} is odd number\")\n"
   ]
  },
  {
   "cell_type": "code",
   "execution_count": 26,
   "id": "94ce2ea6",
   "metadata": {},
   "outputs": [
    {
     "name": "stdout",
     "output_type": "stream",
     "text": [
      "length of list is:  7\n"
     ]
    }
   ],
   "source": [
    "# Write a program which print the length of the list?\n",
    "\n",
    "li=[2,4,5,6,8,9,0]\n",
    "print(\"length of list is: \",len(li))"
   ]
  },
  {
   "cell_type": "code",
   "execution_count": 47,
   "id": "9601d50e",
   "metadata": {},
   "outputs": [
    {
     "name": "stdout",
     "output_type": "stream",
     "text": [
      "25\n"
     ]
    }
   ],
   "source": [
    "# Write a Python program to sum all the numeric items in a list?\n",
    "\n",
    "numbers = [1,2,3,4,5,1,4,5]\n",
    "sum = 0\n",
    "  \n",
    "for n in numbers:\n",
    "    sum+=n\n",
    "\n",
    "print(sum)"
   ]
  },
  {
   "cell_type": "code",
   "execution_count": 49,
   "id": "727ac0cb",
   "metadata": {},
   "outputs": [
    {
     "name": "stdout",
     "output_type": "stream",
     "text": [
      "the lasgest number is: 113\n"
     ]
    }
   ],
   "source": [
    "# Write a Python program to get the largest number from a numeric list.\n",
    "\n",
    "numbers = [15,72,23,33,55,113,42,25]\n",
    "largest_Number = 0\n",
    "for n in numbers:\n",
    "    if (n>largest_Number):\n",
    "        largest_Number = n\n",
    "\n",
    "print(\"the lasgest number is:\", largest_Number)"
   ]
  },
  {
   "cell_type": "code",
   "execution_count": 56,
   "id": "6e1dc785",
   "metadata": {},
   "outputs": [
    {
     "name": "stdout",
     "output_type": "stream",
     "text": [
      "new list is:  [8, 13, 21, 34, 55, 89]\n"
     ]
    }
   ],
   "source": [
    "# Take a list, say for example this one:\n",
    "# a = [1, 1, 2, 3, 5, 8, 13, 21, 34, 55, 89]\n",
    "# Write a program that prints out all the elements of the list that are less than 5.\n",
    "\n",
    "a = [1, 1, 2, 3, 5, 8, 13, 21, 34, 55, 89]\n",
    "greater_than_five = []\n",
    "\n",
    "for i in a:\n",
    "    if i > 5:\n",
    "        greater_than_five.append(i)\n",
    "\n",
    "print(\"new list is: \",greater_than_five)"
   ]
  },
  {
   "cell_type": "code",
   "execution_count": null,
   "id": "58383e99",
   "metadata": {},
   "outputs": [],
   "source": []
  }
 ],
 "metadata": {
  "kernelspec": {
   "display_name": "Python 3",
   "language": "python",
   "name": "python3"
  },
  "language_info": {
   "codemirror_mode": {
    "name": "ipython",
    "version": 3
   },
   "file_extension": ".py",
   "mimetype": "text/x-python",
   "name": "python",
   "nbconvert_exporter": "python",
   "pygments_lexer": "ipython3",
   "version": "3.8.8"
  }
 },
 "nbformat": 4,
 "nbformat_minor": 5
}
