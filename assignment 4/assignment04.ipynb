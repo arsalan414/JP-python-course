{
 "cells": [
  {
   "cell_type": "code",
   "execution_count": 113,
   "id": "03b58e7c",
   "metadata": {},
   "outputs": [
    {
     "name": "stdout",
     "output_type": "stream",
     "text": [
      "_ __ __ __ Welcome to the simple calculator __ __ __ __\n",
      "\n",
      "Do you want to start\n",
      "(y\\n): y\n",
      "\n",
      "\n",
      "Select The Function:\n",
      "1. ADD\n",
      "2. SUBTRACT\n",
      "3. MULTIPLY\n",
      "4. DIVIDE\n",
      "5. POWER\n",
      "\n",
      "Enter: 5\n",
      "Enter the Number:2\n",
      "Enter the Number:4\n",
      "power of  2.0 into  4.0  is : 16.0\n",
      "\n",
      "Do you want to Try again \n",
      "(y\\n): y\n",
      "\n",
      "\n",
      "Select The Function:\n",
      "1. ADD\n",
      "2. SUBTRACT\n",
      "3. MULTIPLY\n",
      "4. DIVIDE\n",
      "5. POWER\n",
      "\n",
      "Enter: 5\n",
      "Enter the Number:3\n",
      "Enter the Number:3\n",
      "power of  3.0 into  3.0  is : 27.0\n",
      "\n",
      "Do you want to Try again \n",
      "(y\\n): n\n",
      "\n",
      "Thanks! Hope you enjoyed :)\n"
     ]
    }
   ],
   "source": [
    "print(\"_ __ __ __ Welcome to the simple calculator __ __ __ __\\n\");\n",
    "i = input(\"Do you want to start\\n(y\\\\n): \")\n",
    "\n",
    "# loop end when user enters No(n)\n",
    "while i!=\"n\":\n",
    "    if i==\"y\" or i == \"Y\":\n",
    "        print(\"\\n\\nSelect The Function:\\n1. ADD\\n2. SUBTRACT\\n3. MULTIPLY\\n4. DIVIDE\\n5. POWER\");\n",
    "        user_input = int(input(\"\\nEnter: \"));\n",
    "        num1 = float(input(\"Enter the Number:\"));\n",
    "        num2 = float(input(\"Enter the Number:\"));\n",
    "        if user_input == 1:\n",
    "            print(\"addition of \",num1,\" and \",num2,\" is: \",num1 + num2)\n",
    "        elif user_input == 2:\n",
    "            print(\"subtraction of \",num1,\" and \",num2,\" is: \",num1 - num2)\n",
    "        elif user_input == 3:\n",
    "            print(\"multication of \",num1,\" and \",num2,\" is: \",num1 * num2)\n",
    "        elif user_input == 4:\n",
    "            print(\"divition of \",num1,\" and \",num2,\" is: \",num1 / num2)\n",
    "        elif user_input == 5:\n",
    "            print(\"power of \",num1,\"into \",num2,\" is :\",num1**num2)\n",
    "        else:\n",
    "            print(\"\\n\\Please type correct numbers\")\n",
    "    elif i == \"n\" or i == \"N\":\n",
    "        break\n",
    "    else:\n",
    "        print(\"\\nplease enter correct option\")\n",
    "    i = input(\"\\nDo you want to Try again \\n(y\\\\n): \")\n",
    "print(\"\\nThanks! Hope you enjoyed :)\")"
   ]
  },
  {
   "cell_type": "code",
   "execution_count": 80,
   "id": "f0e567f0",
   "metadata": {},
   "outputs": [
    {
     "name": "stdout",
     "output_type": "stream",
     "text": [
      "old list:  [2, 3, 4, 'not', 5, 'hello']\n",
      "updated list:  [2, 3, 4, 5]\n"
     ]
    }
   ],
   "source": [
    "# Write a program to check if there is any numeric value in list using for loop.\n",
    "\n",
    "arr = [2,3,4,\"not\",5,\"hello\"]\n",
    "newarr = []\n",
    "for x in arr:\n",
    "    if type(x) == int:\n",
    "        newarr.append(x)\n",
    "        \n",
    "print(\"old list: \",arr)\n",
    "print(\"updated list: \",newarr)"
   ]
  },
  {
   "cell_type": "code",
   "execution_count": 79,
   "id": "fff3e205",
   "metadata": {},
   "outputs": [
    {
     "name": "stdout",
     "output_type": "stream",
     "text": [
      "{1: 'arsalan', 2: 'ali', 3: 'muhammad'}\n"
     ]
    }
   ],
   "source": [
    "# Write a Python script to add a key to a dictionary\n",
    "\n",
    "i={1:\"arsalan\",2:\"ali\"}\n",
    "x ={3: \"muhammad\"}\n",
    "i.update(x)\n",
    "print(i)"
   ]
  },
  {
   "cell_type": "code",
   "execution_count": 86,
   "id": "e7e0ff61",
   "metadata": {},
   "outputs": [
    {
     "name": "stdout",
     "output_type": "stream",
     "text": [
      "640\n"
     ]
    }
   ],
   "source": [
    "# Write a Python program to sum all the numeric items in a dictionary\n",
    "\n",
    "x = {\n",
    "    \"pens\":50,\n",
    "    \"pencils\":20,\n",
    "    \"markers\":100,\n",
    "    \"material Box\": 470\n",
    "}\n",
    "sum_x = sum(x.values())\n",
    "print(sum_x)"
   ]
  },
  {
   "cell_type": "code",
   "execution_count": 92,
   "id": "7eaeb738",
   "metadata": {},
   "outputs": [
    {
     "name": "stdout",
     "output_type": "stream",
     "text": [
      "duplicate values are: [2, 4]\n"
     ]
    }
   ],
   "source": [
    "# Write a program to identify duplicate values from list.\n",
    "\n",
    "li = [2,5,4,\"Ali\",2,4,6]\n",
    "newli =[]\n",
    "dupli = []\n",
    "for x in li:\n",
    "    if x not in newli:\n",
    "        newli.append(x)\n",
    "    else:\n",
    "        dupli.append(x)\n",
    "print(\"duplicate values are:\", dupli)"
   ]
  },
  {
   "cell_type": "code",
   "execution_count": 110,
   "id": "59c04c24",
   "metadata": {},
   "outputs": [
    {
     "name": "stdout",
     "output_type": "stream",
     "text": [
      "Type the Key: aqib\n",
      "Key Already Exists\n"
     ]
    }
   ],
   "source": [
    "# Write a Python script to check if a given key already exists in a dictionary\n",
    "\n",
    "dict = {\"ali\":2000, \"zohaib\": 4000,\"aqib\":4000}\n",
    "def key_finder(d):\n",
    "    if d in dict.keys():\n",
    "        print(\"Key Already Exists\")\n",
    "    else:\n",
    "        print(\"No Key Don't Exits\")\n",
    "search = input(\"Type the Key: \")\n",
    "key_finder(search)"
   ]
  },
  {
   "cell_type": "code",
   "execution_count": null,
   "id": "9a149419",
   "metadata": {},
   "outputs": [],
   "source": []
  }
 ],
 "metadata": {
  "kernelspec": {
   "display_name": "Python 3 (ipykernel)",
   "language": "python",
   "name": "python3"
  },
  "language_info": {
   "codemirror_mode": {
    "name": "ipython",
    "version": 3
   },
   "file_extension": ".py",
   "mimetype": "text/x-python",
   "name": "python",
   "nbconvert_exporter": "python",
   "pygments_lexer": "ipython3",
   "version": "3.9.7"
  }
 },
 "nbformat": 4,
 "nbformat_minor": 5
}
