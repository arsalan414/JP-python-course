{
 "cells": [
  {
   "cell_type": "code",
   "execution_count": 2,
   "id": "17aaca92",
   "metadata": {},
   "outputs": [
    {
     "name": "stdout",
     "output_type": "stream",
     "text": [
      ".....WELCOME TO THE PROGRAM.....\n",
      "Enter obtained Marks out of 100\n",
      "English: 76\n",
      "Islamiat: 99\n",
      "Mathematics: 87\n",
      "\n",
      "\n",
      "\n",
      ".......Marksheet.......\n",
      "Subject \tTotal marks \tObtained marks\n",
      "ENGLISH \t100 \t\t76.0\n",
      "Islamiat \t100 \t\t99.0\n",
      "Mathematics \t100 \t\t87.0\n",
      "\n",
      "percentage: 87.33% \tGrade: A+ \n"
     ]
    }
   ],
   "source": [
    "print(\".....WELCOME TO THE PROGRAM.....\");\n",
    "print(\"Enter obtained Marks out of 100\");\n",
    "eng = float(input(\"English: \"));\n",
    "isl = float(input(\"Islamiat: \"));\n",
    "maths = float(input(\"Mathematics: \"));\n",
    "obtainedMarks = eng + isl + maths;\n",
    "totalMarks = 300;\n",
    "\n",
    "percentage = (obtainedMarks / totalMarks)*100;\n",
    "\n",
    "\n",
    "if percentage >=80 and percentage <=100:\n",
    "    grade=\"A+\"\n",
    "elif percentage >=70 and percentage <=100:\n",
    "    grade = \"A\"\n",
    "elif percentage >=60 and percentage <=100:\n",
    "    grade = \"B\"\n",
    "elif percentage >=50 and percentage <=100:\n",
    "    grade = \"C\"\n",
    "elif percentage >=40 and percentage <=100:\n",
    "    grade = \"D\"\n",
    "elif percentage <40 and percentage <=100:\n",
    "    grade = \"F\"\n",
    "else:\n",
    "    grade=\"unknown\"  \n",
    "\n",
    "    \n",
    "print(\"\\n\\n\")\n",
    "print(\".......Marksheet.......\");\n",
    "print(\"Subjects \\tTotal marks \\tObtained marks\")\n",
    "print(f\"ENGLISH \\t100 \\t\\t{eng}\\nIslamiat \\t100 \\t\\t{isl}\\nMathematics \\t100 \\t\\t{maths}\\n\");\n",
    "\n",
    "print(f\"percentage: {round(percentage,2)}% \\tGrade: {grade} \")\n"
   ]
  },
  {
   "cell_type": "code",
   "execution_count": null,
   "id": "9918390e",
   "metadata": {},
   "outputs": [],
   "source": []
  }
 ],
 "metadata": {
  "kernelspec": {
   "display_name": "Python 3",
   "language": "python",
   "name": "python3"
  },
  "language_info": {
   "codemirror_mode": {
    "name": "ipython",
    "version": 3
   },
   "file_extension": ".py",
   "mimetype": "text/x-python",
   "name": "python",
   "nbconvert_exporter": "python",
   "pygments_lexer": "ipython3",
   "version": "3.8.8"
  }
 },
 "nbformat": 4,
 "nbformat_minor": 5
}
